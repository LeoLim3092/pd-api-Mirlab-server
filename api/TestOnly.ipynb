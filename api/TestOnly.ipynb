{
 "cells": [
  {
   "cell_type": "code",
   "execution_count": 6,
   "id": "501e58c4",
   "metadata": {
    "scrolled": true
   },
   "outputs": [],
   "source": [
    "from pdModel.voiceFeatureExtraction import voice_features_extraction\n",
    "import numpy as np\n",
    "import subprocess\n",
    "import soundfile as sf\n",
    "import os\n",
    "import pysptk\n",
    "\n",
    "\n",
    "def convert_to_wav(input_file):\n",
    "    output_file = f'{input_file[:-4]}.wav'\n",
    "\n",
    "    # Run the ffmpeg command as a subprocess\n",
    "    subprocess.run([\"ffmpeg\", \"-i\", input_file, output_file])\n",
    "\n",
    "    return output_file\n",
    "\n",
    "input_file = \"/mnt/pd_app/sound/2023-04-21 11:43:19_sound_Leo_1682048546325.aac\"\n",
    "output_file = f'{input_file[:-4]}.wav'\n"
   ]
  },
  {
   "cell_type": "code",
   "execution_count": 7,
   "id": "04dcc78f",
   "metadata": {},
   "outputs": [
    {
     "name": "stderr",
     "output_type": "stream",
     "text": [
      "ffmpeg version 4.3 Copyright (c) 2000-2020 the FFmpeg developers\n",
      "  built with gcc 7.3.0 (crosstool-NG 1.23.0.449-a04d0)\n",
      "  configuration: --prefix=/opt/conda/conda-bld/ffmpeg_1597178665428/_h_env_placehold_placehold_placehold_placehold_placehold_placehold_placehold_placehold_placehold_placehold_placehold_placehold_placehold_placehold_placehold_placehold_placehold_placehold_placehold_placehold_placeh --cc=/opt/conda/conda-bld/ffmpeg_1597178665428/_build_env/bin/x86_64-conda_cos6-linux-gnu-cc --disable-doc --disable-openssl --enable-avresample --enable-gnutls --enable-hardcoded-tables --enable-libfreetype --enable-libopenh264 --enable-pic --enable-pthreads --enable-shared --disable-static --enable-version3 --enable-zlib --enable-libmp3lame\n",
      "  libavutil      56. 51.100 / 56. 51.100\n",
      "  libavcodec     58. 91.100 / 58. 91.100\n",
      "  libavformat    58. 45.100 / 58. 45.100\n",
      "  libavdevice    58. 10.100 / 58. 10.100\n",
      "  libavfilter     7. 85.100 /  7. 85.100\n",
      "  libavresample   4.  0.  0 /  4.  0.  0\n",
      "  libswscale      5.  7.100 /  5.  7.100\n",
      "  libswresample   3.  7.100 /  3.  7.100\n",
      "[aac @ 0x5614183d6bc0] Format aac detected only with low score of 1, misdetection possible!\n",
      "/mnt/pd_app/sound/2023-04-21 11:43:19_sound_Leo_1682048546325.aac: End of file\n"
     ]
    },
    {
     "data": {
      "text/plain": [
       "'/mnt/pd_app/sound/2023-04-21 11:43:19_sound_Leo_1682048546325.wav'"
      ]
     },
     "execution_count": 7,
     "metadata": {},
     "output_type": "execute_result"
    }
   ],
   "source": [
    "# voice_features_extraction(input_file)\n",
    "convert_to_wav(input_file)"
   ]
  },
  {
   "cell_type": "code",
   "execution_count": 3,
   "id": "142588f7",
   "metadata": {},
   "outputs": [
    {
     "data": {
      "text/plain": [
       "(3.8523175542406314, -50.78765059379175, 5.509713638431157, 110.67666993907515)"
      ]
     },
     "execution_count": 3,
     "metadata": {},
     "output_type": "execute_result"
    }
   ],
   "source": [
    "pause_percentage, volumn_change, pitch_change, average_pitch"
   ]
  },
  {
   "cell_type": "code",
   "execution_count": null,
   "id": "e6f96721",
   "metadata": {},
   "outputs": [],
   "source": []
  },
  {
   "cell_type": "code",
   "execution_count": null,
   "id": "33792659",
   "metadata": {},
   "outputs": [],
   "source": []
  },
  {
   "cell_type": "code",
   "execution_count": null,
   "id": "a5b80cb9",
   "metadata": {},
   "outputs": [],
   "source": []
  },
  {
   "cell_type": "code",
   "execution_count": null,
   "id": "926b7ba1",
   "metadata": {},
   "outputs": [],
   "source": []
  },
  {
   "cell_type": "code",
   "execution_count": null,
   "id": "070c5b1c",
   "metadata": {},
   "outputs": [],
   "source": []
  }
 ],
 "metadata": {
  "kernelspec": {
   "display_name": "Python 3 (ipykernel)",
   "language": "python",
   "name": "python3"
  },
  "language_info": {
   "codemirror_mode": {
    "name": "ipython",
    "version": 3
   },
   "file_extension": ".py",
   "mimetype": "text/x-python",
   "name": "python",
   "nbconvert_exporter": "python",
   "pygments_lexer": "ipython3",
   "version": "3.8.16"
  }
 },
 "nbformat": 4,
 "nbformat_minor": 5
}
